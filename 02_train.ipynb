{
 "cells": [
  {
   "cell_type": "code",
   "execution_count": null,
   "id": "50d660a4",
   "metadata": {},
   "outputs": [],
   "source": [
    "from ultralytics import YOLO\n",
    "from wandb.integration.yolov8 import add_callbacks as add_wandb_callbacks"
   ]
  },
  {
   "cell_type": "code",
   "execution_count": null,
   "id": "d9c3d73c",
   "metadata": {},
   "outputs": [],
   "source": [
    "# load model\n",
    "model = YOLO('yolov8n.pt')  \n",
    "add_wandb_callbacks(model, project='spiders-and-hounds')"
   ]
  },
  {
   "cell_type": "code",
   "execution_count": null,
   "id": "f7fe288c",
   "metadata": {
    "scrolled": true
   },
   "outputs": [],
   "source": [
    "# Train the model\n",
    "model.train(data='dst.yaml', workers=1, imgsz=640)"
   ]
  }
 ],
 "metadata": {
  "kernelspec": {
   "display_name": "Python 3 (ipykernel)",
   "language": "python",
   "name": "python3"
  },
  "language_info": {
   "codemirror_mode": {
    "name": "ipython",
    "version": 3
   },
   "file_extension": ".py",
   "mimetype": "text/x-python",
   "name": "python",
   "nbconvert_exporter": "python",
   "pygments_lexer": "ipython3",
   "version": "3.9.2"
  }
 },
 "nbformat": 4,
 "nbformat_minor": 5
}
