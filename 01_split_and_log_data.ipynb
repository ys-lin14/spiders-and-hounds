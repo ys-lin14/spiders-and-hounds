{
 "cells": [
  {
   "cell_type": "code",
   "execution_count": null,
   "id": "d2364343",
   "metadata": {},
   "outputs": [],
   "source": [
    "import os\n",
    "import glob\n",
    "import pandas as pd\n",
    "import shutil\n",
    "import wandb\n",
    "\n",
    "from sklearn.model_selection import train_test_split"
   ]
  },
  {
   "cell_type": "code",
   "execution_count": null,
   "id": "accd468b",
   "metadata": {},
   "outputs": [],
   "source": [
    "def read_label_file(label_file_path, column_names=['class', 'x_center', 'y_center', 'width', 'height']):\n",
    "    label_data = pd.read_csv(label_file_path, names=column_names, sep=' ')\n",
    "    \n",
    "    # add column containing the label file path and re-order columns\n",
    "    label_file_path = label_file_path\n",
    "    label_data['label_path'] = label_file_path.replace('\\\\', '/')\n",
    "    label_data['image_path'] = label_data['label_path'].apply(get_image_path)\n",
    "    label_data = label_data[['label_path', 'image_path']+column_names]\n",
    "    return label_data\n",
    "\n",
    "def get_image_path(label_file_path):\n",
    "    image_path = f'./data/images/{label_file_path[-11:-4]}.jpg'\n",
    "    return image_path\n",
    "\n",
    "def clear_folder(path):\n",
    "    shutil.rmtree(path)\n",
    "    os.mkdir(path)\n",
    "\n",
    "def clear_train_validation_subfolders():\n",
    "    subfolders = ['./data/train/images/', './data/train/labels/',\n",
    "                  './data/validation/images/', './data/validation/labels/']\n",
    "    for subfolder in subfolders:\n",
    "        clear_folder(subfolder)\n",
    "\n",
    "def copy_from_source_path(source_path, is_train=True):\n",
    "    # copy image or labels to train or validation folder\n",
    "    folder = 'train' if is_train else 'validation'\n",
    "    destination_path = source_path.replace('./data', f'./data/{folder}')\n",
    "    shutil.copy(source_path, destination_path)\n",
    "    \n",
    "def copy_labels_and_images(data, is_train=True):\n",
    "    data['label_path'].apply(lambda path: copy_from_source_path(path, is_train=is_train))\n",
    "    data['image_path'].apply(lambda path: copy_from_source_path(path, is_train=is_train))"
   ]
  },
  {
   "cell_type": "code",
   "execution_count": null,
   "id": "dcf47e87",
   "metadata": {},
   "outputs": [],
   "source": [
    "# add pre-split data to artifact\n",
    "run = wandb.init(project='spiders-and-hounds', job_type='upload')\n",
    "data_artifact = wandb.Artifact('mob_data', type='dataset')\n",
    "data_artifact.add_dir('./data/images', name='images')\n",
    "data_artifact.add_dir('./data/labels', name='labels')"
   ]
  },
  {
   "cell_type": "code",
   "execution_count": null,
   "id": "d1975591",
   "metadata": {},
   "outputs": [],
   "source": [
    "# skip first file containing the classes \n",
    "label_file_paths = glob.glob('./data/labels/*.txt')[1:]"
   ]
  },
  {
   "cell_type": "code",
   "execution_count": null,
   "id": "daa44e88",
   "metadata": {},
   "outputs": [],
   "source": [
    "# combine dataframes containing the annotation information for each image\n",
    "label_data_list = [read_label_file(label_file_path) for label_file_path in label_file_paths]\n",
    "label_data = pd.concat(label_data_list)"
   ]
  },
  {
   "cell_type": "code",
   "execution_count": null,
   "id": "73b90479",
   "metadata": {},
   "outputs": [],
   "source": [
    "class_counts_by_file = label_data.groupby(['label_path', 'image_path', 'class']).aggregate({'class': 'count'})\n",
    "class_counts_by_file = class_counts_by_file.unstack(fill_value=0)\n",
    "class_counts_by_file.columns = class_counts_by_file.columns.droplevel()\n",
    "class_counts_by_file.columns.name = None\n",
    "class_counts_by_file.reset_index(inplace=True)"
   ]
  },
  {
   "cell_type": "code",
   "execution_count": null,
   "id": "a5987929",
   "metadata": {},
   "outputs": [],
   "source": [
    "class_counts_by_file[['contains_class_0', 'contains_class_1']] = (class_counts_by_file[[0, 1]] > 0).astype(int)"
   ]
  },
  {
   "cell_type": "code",
   "execution_count": null,
   "id": "40a9fc55",
   "metadata": {},
   "outputs": [],
   "source": [
    "train_data, validation_data = train_test_split(class_counts_by_file, \n",
    "                                               test_size=0.25,\n",
    "                                               stratify=class_counts_by_file[['contains_class_0', 'contains_class_1']],\n",
    "                                               random_state=42)"
   ]
  },
  {
   "cell_type": "code",
   "execution_count": null,
   "id": "ebe7fce5",
   "metadata": {},
   "outputs": [],
   "source": [
    "# total number of spiders (0) vs hounds (1) \n",
    "display(class_counts_by_file[[0, 1]].sum(axis=0))\n",
    "\n",
    "# spiders and hounds in the training set\n",
    "display(train_data[[0, 1]].sum(axis=0))\n",
    "\n",
    "# spiders and hounds in the validation set\n",
    "display(validation_data[[0, 1]].sum(axis=0))"
   ]
  },
  {
   "cell_type": "code",
   "execution_count": null,
   "id": "8fcd3445",
   "metadata": {},
   "outputs": [],
   "source": [
    "# clear train/validation image and label folders before copying to ensure that new splits do not result in data leakage\n",
    "# when additional data is added\n",
    "clear_train_validation_subfolders()\n",
    "\n",
    "copy_labels_and_images(train_data)\n",
    "copy_labels_and_images(validation_data, is_train=False)"
   ]
  },
  {
   "cell_type": "code",
   "execution_count": null,
   "id": "60883839",
   "metadata": {},
   "outputs": [],
   "source": [
    "# add train and validation splits to the artifact and log the artifact\n",
    "data_artifact.add_dir('./data/train', name='train')\n",
    "data_artifact.add_dir('./data/validation', name='validation')\n",
    "run.log_artifact(data_artifact)\n",
    "run.finish()"
   ]
  }
 ],
 "metadata": {
  "kernelspec": {
   "display_name": "Python 3 (ipykernel)",
   "language": "python",
   "name": "python3"
  },
  "language_info": {
   "codemirror_mode": {
    "name": "ipython",
    "version": 3
   },
   "file_extension": ".py",
   "mimetype": "text/x-python",
   "name": "python",
   "nbconvert_exporter": "python",
   "pygments_lexer": "ipython3",
   "version": "3.9.2"
  }
 },
 "nbformat": 4,
 "nbformat_minor": 5
}
