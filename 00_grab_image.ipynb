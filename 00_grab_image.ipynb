{
 "cells": [
  {
   "cell_type": "code",
   "execution_count": 1,
   "id": "64ae50f3",
   "metadata": {},
   "outputs": [],
   "source": [
    "import cv2\n",
    "import dxcam\n",
    "import glob\n",
    "import numpy as np\n",
    "import util\n",
    "import time\n",
    "\n",
    "from PIL import Image"
   ]
  },
  {
   "cell_type": "code",
   "execution_count": 2,
   "id": "fa32a8c0",
   "metadata": {},
   "outputs": [],
   "source": [
    "window_region = util.get_window_region()\n",
    "camera = dxcam.create(region=window_region)"
   ]
  },
  {
   "cell_type": "code",
   "execution_count": 3,
   "id": "47942bf5",
   "metadata": {},
   "outputs": [],
   "source": [
    "# get number of existing images\n",
    "collected_image_names = glob.glob('./data/images/*.jpg')\n",
    "image_number = len(collected_image_names)"
   ]
  },
  {
   "cell_type": "code",
   "execution_count": 15,
   "id": "d8125389",
   "metadata": {
    "editable": false
   },
   "outputs": [],
   "source": [
    "# grab and save frame after a 2s delay \n",
    "# images are numbered from 000, 001 to 999\n",
    "image_path = f'./data/images/dst_{str(image_number).zfill(3)}.jpg'\n",
    "\n",
    "time.sleep(2)\n",
    "frame = camera.grab()\n",
    "image = Image.fromarray(frame)\n",
    "image.save(image_path)\n",
    "\n",
    "image_number += 1"
   ]
  }
 ],
 "metadata": {
  "kernelspec": {
   "display_name": "Python 3 (ipykernel)",
   "language": "python",
   "name": "python3"
  },
  "language_info": {
   "codemirror_mode": {
    "name": "ipython",
    "version": 3
   },
   "file_extension": ".py",
   "mimetype": "text/x-python",
   "name": "python",
   "nbconvert_exporter": "python",
   "pygments_lexer": "ipython3",
   "version": "3.9.2"
  }
 },
 "nbformat": 4,
 "nbformat_minor": 5
}
